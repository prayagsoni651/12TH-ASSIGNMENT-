{
 "cells": [
  {
   "cell_type": "code",
   "execution_count": 2,
   "id": "180642b8",
   "metadata": {},
   "outputs": [
    {
     "name": "stdout",
     "output_type": "stream",
     "text": [
      "Enter a number: 89\n",
      "The reversed number is: 98\n"
     ]
    }
   ],
   "source": [
    "# 1. Write a python script to reverse a number.\n",
    "\n",
    "def reverse_number(number):\n",
    "    reversed_number = 0\n",
    "\n",
    "    while number > 0:\n",
    "        digit = number % 10\n",
    "        reversed_number = (reversed_number * 10) + digit\n",
    "        number //= 10\n",
    "\n",
    "    return reversed_number\n",
    "\n",
    "input_number = int(input(\"Enter a number: \"))\n",
    "reversed_result = reverse_number(input_number)\n",
    "\n",
    "print(f\"The reversed number is: {reversed_result}\")"
   ]
  },
  {
   "cell_type": "code",
   "execution_count": 3,
   "id": "4c0793b4",
   "metadata": {},
   "outputs": [
    {
     "name": "stdout",
     "output_type": "stream",
     "text": [
      "Enter a number: 78\n",
      "78 is not a prime number.\n"
     ]
    }
   ],
   "source": [
    "# 2. Write a python script to check whether a given number is Prime or not\n",
    "\n",
    "def is_prime(number):\n",
    "    if number < 2:\n",
    "        return False\n",
    "    for i in range(2, int(number**0.5) + 1):\n",
    "        if number % i == 0:\n",
    "            return False\n",
    "    return True\n",
    "\n",
    "input_number = int(input(\"Enter a number: \"))\n",
    "\n",
    "if is_prime(input_number):\n",
    "    print(f\"{input_number} is a prime number.\")\n",
    "else:\n",
    "    print(f\"{input_number} is not a prime number.\")"
   ]
  },
  {
   "cell_type": "code",
   "execution_count": 4,
   "id": "db26fb84",
   "metadata": {},
   "outputs": [
    {
     "name": "stdout",
     "output_type": "stream",
     "text": [
      "Prime numbers under 100:\n",
      "2\n",
      "3\n",
      "5\n",
      "7\n",
      "11\n",
      "13\n",
      "17\n",
      "19\n",
      "23\n",
      "29\n",
      "31\n",
      "37\n",
      "41\n",
      "43\n",
      "47\n",
      "53\n",
      "59\n",
      "61\n",
      "67\n",
      "71\n",
      "73\n",
      "79\n",
      "83\n",
      "89\n",
      "97\n"
     ]
    }
   ],
   "source": [
    "# 3. Write a python script to print all Prime numbers under 100\n",
    "\n",
    "def is_prime(number):\n",
    "    if number < 2:\n",
    "        return False\n",
    "    for i in range(2, int(number**0.5) + 1):\n",
    "        if number % i == 0:\n",
    "            return False\n",
    "    return True\n",
    "\n",
    "print(\"Prime numbers under 100:\")\n",
    "for num in range(2, 100):\n",
    "    if is_prime(num):\n",
    "        print(num)"
   ]
  },
  {
   "cell_type": "code",
   "execution_count": 6,
   "id": "b0754e7b",
   "metadata": {},
   "outputs": [
    {
     "name": "stdout",
     "output_type": "stream",
     "text": [
      "Enter the starting number: 567\n",
      "Enter the ending number: 2\n",
      "Prime numbers between 567 and 2 (inclusive):\n"
     ]
    }
   ],
   "source": [
    "'''\n",
    "4. Write a python script to print all Prime numbers between two given numbers (both\n",
    "values inclusive)\n",
    "'''\n",
    "\n",
    "def is_prime(number):\n",
    "    if number < 2:\n",
    "        return False\n",
    "    for i in range(2, int(number**0.5) + 1):\n",
    "        if number % i == 0:\n",
    "            return False\n",
    "    return True\n",
    "\n",
    "start = int(input(\"Enter the starting number: \"))\n",
    "end = int(input(\"Enter the ending number: \"))\n",
    "\n",
    "print(f\"Prime numbers between {start} and {end} (inclusive):\")\n",
    "for num in range(start, end + 1):\n",
    "    if is_prime(num):\n",
    "        print(num)"
   ]
  },
  {
   "cell_type": "code",
   "execution_count": 7,
   "id": "13d1cd8c",
   "metadata": {},
   "outputs": [
    {
     "name": "stdout",
     "output_type": "stream",
     "text": [
      "Enter a number: 5\n",
      "The next prime number after 5 is: 7\n"
     ]
    }
   ],
   "source": [
    "# 5. Write a python script to find next prime number of a given number\n",
    "\n",
    "def is_prime(number):\n",
    "    if number < 2:\n",
    "        return False\n",
    "    for i in range(2, int(number**0.5) + 1):\n",
    "        if number % i == 0:\n",
    "            return False\n",
    "    return True\n",
    "\n",
    "def next_prime(current_number):\n",
    "    next_number = current_number + 1\n",
    "    while not is_prime(next_number):\n",
    "        next_number += 1\n",
    "    return next_number\n",
    "\n",
    "input_number = int(input(\"Enter a number: \"))\n",
    "next_prime_number = next_prime(input_number)\n",
    "\n",
    "print(f\"The next prime number after {input_number} is: {next_prime_number}\")"
   ]
  },
  {
   "cell_type": "markdown",
   "id": "8a9a2dfa",
   "metadata": {},
   "source": [
    "# 6. Write a python script to print first N prime numbers\n",
    "\n",
    "def is_prime(number):\n",
    "    if number < 2:\n",
    "        return False\n",
    "    for i in range(2, int(number**0.5) + 1):\n",
    "        if number % i == 0:\n",
    "            return False\n",
    "    return True\n",
    "\n",
    "def first_n_primes(N):\n",
    "    primes = []\n",
    "    num = 2\n",
    "\n",
    "    while len(primes) < N:\n",
    "        if is_prime(num):\n",
    "            primes.append(num)\n",
    "        num += 1\n",
    "\n",
    "    return primes\n",
    "\n",
    "N = int(input(\"Enter the value of N: \"))\n",
    "result = first_n_primes(N)\n",
    "\n",
    "print(f\"The first {N} prime numbers are: {result}\")"
   ]
  },
  {
   "cell_type": "code",
   "execution_count": 8,
   "id": "867bdeb1",
   "metadata": {},
   "outputs": [
    {
     "name": "stdout",
     "output_type": "stream",
     "text": [
      "Enter the value of N: 4\n",
      "The first 4 prime numbers are: [2, 3, 5, 7]\n"
     ]
    }
   ],
   "source": [
    "# 6. Write a python script to print first N prime numbers\n",
    "\n",
    "\n",
    "\n",
    "def is_prime(number):\n",
    "    if number < 2:\n",
    "        return False\n",
    "    for i in range(2, int(number**0.5) + 1):\n",
    "        if number % i == 0:\n",
    "            return False\n",
    "    return True\n",
    "\n",
    "def first_n_primes(N):\n",
    "    primes = []\n",
    "    num = 2\n",
    "\n",
    "    while len(primes) < N:\n",
    "        if is_prime(num):\n",
    "            primes.append(num)\n",
    "        num += 1\n",
    "\n",
    "    return primes\n",
    "\n",
    "N = int(input(\"Enter the value of N: \"))\n",
    "result = first_n_primes(N)\n",
    "\n",
    "print(f\"The first {N} prime numbers are: {result}\")"
   ]
  },
  {
   "cell_type": "code",
   "execution_count": 9,
   "id": "8a98396d",
   "metadata": {},
   "outputs": [
    {
     "name": "stdout",
     "output_type": "stream",
     "text": [
      "Enter the first number: 4\n",
      "Enter the second number: 4\n",
      "4 and 4 are not co-prime numbers.\n"
     ]
    }
   ],
   "source": [
    "# 7. Write a python script to check whether a given pair of numbers are co-Prime\n",
    "#    numbers or not.\n",
    "\n",
    "def gcd(a, b):\n",
    "    while b:\n",
    "        a, b = b, a % b\n",
    "    return a\n",
    "\n",
    "def are_coprime(num1, num2):\n",
    "    return gcd(num1, num2) == 1\n",
    "\n",
    "number1 = int(input(\"Enter the first number: \"))\n",
    "number2 = int(input(\"Enter the second number: \"))\n",
    "\n",
    "if are_coprime(number1, number2):\n",
    "    print(f\"{number1} and {number2} are co-prime numbers.\")\n",
    "else:\n",
    "    print(f\"{number1} and {number2} are not co-prime numbers.\")"
   ]
  },
  {
   "cell_type": "code",
   "execution_count": 10,
   "id": "fa831cbd",
   "metadata": {},
   "outputs": [
    {
     "name": "stdout",
     "output_type": "stream",
     "text": [
      "Enter the value of N: 4\n",
      "The first 4 terms of the Fibonacci series are: [0, 1, 1, 2]\n"
     ]
    }
   ],
   "source": [
    "# 8. Write a python script to print first N terms of a Fibonacci series\n",
    "\n",
    "def fibonacci_series(N):\n",
    "    series = []\n",
    "    a, b = 0, 1\n",
    "\n",
    "    for _ in range(N):\n",
    "        series.append(a)\n",
    "        a, b = b, a + b\n",
    "\n",
    "    return series\n",
    "\n",
    "N = int(input(\"Enter the value of N: \"))\n",
    "result = fibonacci_series(N)\n",
    "\n",
    "print(f\"The first {N} terms of the Fibonacci series are: {result}\")"
   ]
  },
  {
   "cell_type": "code",
   "execution_count": 11,
   "id": "09fb7517",
   "metadata": {},
   "outputs": [
    {
     "name": "stdout",
     "output_type": "stream",
     "text": [
      "Enter the first number: 4\n",
      "Enter the second number: 4\n",
      "The LCM of 4 and 4 is: 4\n"
     ]
    }
   ],
   "source": [
    "# 9. Write a python script to calculate LCM of two numbers\n",
    "\n",
    "def gcd(a, b):\n",
    "    while b:\n",
    "        a, b = b, a % b\n",
    "    return a\n",
    "\n",
    "def lcm(a, b):\n",
    "    return (a * b) // gcd(a, b)\n",
    "\n",
    "number1 = int(input(\"Enter the first number: \"))\n",
    "number2 = int(input(\"Enter the second number: \"))\n",
    "\n",
    "result = lcm(number1, number2)\n",
    "\n",
    "print(f\"The LCM of {number1} and {number2} is: {result}\")"
   ]
  },
  {
   "cell_type": "code",
   "execution_count": 12,
   "id": "55dae1b2",
   "metadata": {},
   "outputs": [
    {
     "name": "stdout",
     "output_type": "stream",
     "text": [
      "Enter the first number: 4\n",
      "Enter the second number: 3\n",
      "The HCF/GCD of 4 and 3 is: 1\n"
     ]
    }
   ],
   "source": [
    "# 10. Write a python script to calculate HCF of two numbers\n",
    "\n",
    "def gcd(a, b):\n",
    "    while b:\n",
    "        a, b = b, a % b\n",
    "    return a\n",
    "\n",
    "number1 = int(input(\"Enter the first number: \"))\n",
    "number2 = int(input(\"Enter the second number: \"))\n",
    "\n",
    "result = gcd(number1, number2)\n",
    "\n",
    "print(f\"The HCF/GCD of {number1} and {number2} is: {result}\")"
   ]
  },
  {
   "cell_type": "code",
   "execution_count": null,
   "id": "eda9968c",
   "metadata": {},
   "outputs": [],
   "source": []
  }
 ],
 "metadata": {
  "kernelspec": {
   "display_name": "Python 3 (ipykernel)",
   "language": "python",
   "name": "python3"
  },
  "language_info": {
   "codemirror_mode": {
    "name": "ipython",
    "version": 3
   },
   "file_extension": ".py",
   "mimetype": "text/x-python",
   "name": "python",
   "nbconvert_exporter": "python",
   "pygments_lexer": "ipython3",
   "version": "3.11.4"
  }
 },
 "nbformat": 4,
 "nbformat_minor": 5
}
